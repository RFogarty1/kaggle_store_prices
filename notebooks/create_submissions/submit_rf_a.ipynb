{
 "cells": [
  {
   "cell_type": "markdown",
   "id": "335cba40",
   "metadata": {},
   "source": [
    "**Imports**"
   ]
  },
  {
   "cell_type": "code",
   "execution_count": 1,
   "id": "d0342607",
   "metadata": {},
   "outputs": [],
   "source": [
    "\n",
    "import os\n",
    "import math\n",
    "import pathlib\n",
    "import json\n",
    "\n",
    "import numpy as np\n",
    "\n",
    "import pandas as pd\n",
    "import pathlib\n",
    "\n",
    "import sklearn as sk\n",
    "import sklearn.ensemble\n",
    "\n",
    "import pyplotterlib.standard.plotters as ppl\n",
    "\n",
    "#\n",
    "import project_path\n",
    "import preproc_pipes as preProcPipeHelp"
   ]
  },
  {
   "cell_type": "markdown",
   "id": "4b835859",
   "metadata": {},
   "source": [
    "**Configuration Variables**"
   ]
  },
  {
   "cell_type": "code",
   "execution_count": 2,
   "id": "841466d6",
   "metadata": {},
   "outputs": [],
   "source": [
    "TRAIN_PATH = os.path.join(\"..\",\"..\",\"raw_data\",\"train.csv\")\n",
    "TEST_PATH = os.path.join(\"..\",\"..\",\"raw_data\",\"test.csv\")\n",
    "\n",
    "\n",
    "SAVE_FOLDER = os.path.join( os.getcwd(),\"..\",\"..\",\"submissions\",\"submit_rf_a\" )\n",
    "SUBMIT_PATH = os.path.join(SAVE_FOLDER, \"submission.csv\")\n",
    "\n",
    "#Want to restrict to recent data only\n",
    "N_DAYS_USE = 400\n",
    "\n",
    "#\n",
    "LAG_VALS = [x for x in range(16,46)]\n",
    "ON_PROM_LAGS = [1,2,3,4,5,6,7,14,15,16,17,18]\n",
    "\n",
    "#The obvious lag here is 0; since we actually always KNOW todays (and even future days)\n",
    "ON_PROM_WINDOW_VALS = [2,3,4,5,6,7,14,21]\n",
    "\n",
    "#Obvious lag is 16; this gets us a recent average sales number we can use\n",
    "#7 is obviously the sensible number here...\n",
    "SALE_WINDOW_VALS = [2,3,4,5,6,7,14,21] #\n",
    "\n",
    "#\n",
    "_currKwargs = {\"constrainedLayout\":True, \"figHeightPerRow\":4, \"figWidthPerCol\":6, \"nColsGrid\":4}\n",
    "RECT_MULTI_PLOTTER = ppl.RectMultiPlotter(**_currKwargs)\n",
    "\n"
   ]
  },
  {
   "cell_type": "code",
   "execution_count": 3,
   "id": "e6135b29",
   "metadata": {},
   "outputs": [],
   "source": [
    "#\n",
    "np.random.seed(52342)"
   ]
  },
  {
   "cell_type": "markdown",
   "id": "fc71d94a",
   "metadata": {},
   "source": [
    "**Import data**"
   ]
  },
  {
   "cell_type": "code",
   "execution_count": 4,
   "id": "6920e610",
   "metadata": {},
   "outputs": [],
   "source": [
    "RAW_TRAIN = pd.read_csv(TRAIN_PATH)\n",
    "RAW_TEST = pd.read_csv(TEST_PATH)"
   ]
  },
  {
   "cell_type": "code",
   "execution_count": 5,
   "id": "c5e8576d",
   "metadata": {},
   "outputs": [
    {
     "data": {
      "text/html": [
       "<div>\n",
       "<style scoped>\n",
       "    .dataframe tbody tr th:only-of-type {\n",
       "        vertical-align: middle;\n",
       "    }\n",
       "\n",
       "    .dataframe tbody tr th {\n",
       "        vertical-align: top;\n",
       "    }\n",
       "\n",
       "    .dataframe thead th {\n",
       "        text-align: right;\n",
       "    }\n",
       "</style>\n",
       "<table border=\"1\" class=\"dataframe\">\n",
       "  <thead>\n",
       "    <tr style=\"text-align: right;\">\n",
       "      <th></th>\n",
       "      <th>id</th>\n",
       "      <th>date</th>\n",
       "      <th>store_nbr</th>\n",
       "      <th>family</th>\n",
       "      <th>sales</th>\n",
       "      <th>onpromotion</th>\n",
       "    </tr>\n",
       "  </thead>\n",
       "  <tbody>\n",
       "    <tr>\n",
       "      <th>3000885</th>\n",
       "      <td>3000885</td>\n",
       "      <td>2017-08-15</td>\n",
       "      <td>9</td>\n",
       "      <td>PRODUCE</td>\n",
       "      <td>2419.729</td>\n",
       "      <td>148</td>\n",
       "    </tr>\n",
       "    <tr>\n",
       "      <th>3000886</th>\n",
       "      <td>3000886</td>\n",
       "      <td>2017-08-15</td>\n",
       "      <td>9</td>\n",
       "      <td>SCHOOL AND OFFICE SUPPLIES</td>\n",
       "      <td>121.000</td>\n",
       "      <td>8</td>\n",
       "    </tr>\n",
       "    <tr>\n",
       "      <th>3000887</th>\n",
       "      <td>3000887</td>\n",
       "      <td>2017-08-15</td>\n",
       "      <td>9</td>\n",
       "      <td>SEAFOOD</td>\n",
       "      <td>16.000</td>\n",
       "      <td>0</td>\n",
       "    </tr>\n",
       "  </tbody>\n",
       "</table>\n",
       "</div>"
      ],
      "text/plain": [
       "              id        date  store_nbr                      family     sales  \\\n",
       "3000885  3000885  2017-08-15          9                     PRODUCE  2419.729   \n",
       "3000886  3000886  2017-08-15          9  SCHOOL AND OFFICE SUPPLIES   121.000   \n",
       "3000887  3000887  2017-08-15          9                     SEAFOOD    16.000   \n",
       "\n",
       "         onpromotion  \n",
       "3000885          148  \n",
       "3000886            8  \n",
       "3000887            0  "
      ]
     },
     "execution_count": 5,
     "metadata": {},
     "output_type": "execute_result"
    }
   ],
   "source": [
    "RAW_TRAIN.tail(3)"
   ]
  },
  {
   "cell_type": "code",
   "execution_count": 6,
   "id": "1a06a565",
   "metadata": {},
   "outputs": [
    {
     "data": {
      "text/html": [
       "<div>\n",
       "<style scoped>\n",
       "    .dataframe tbody tr th:only-of-type {\n",
       "        vertical-align: middle;\n",
       "    }\n",
       "\n",
       "    .dataframe tbody tr th {\n",
       "        vertical-align: top;\n",
       "    }\n",
       "\n",
       "    .dataframe thead th {\n",
       "        text-align: right;\n",
       "    }\n",
       "</style>\n",
       "<table border=\"1\" class=\"dataframe\">\n",
       "  <thead>\n",
       "    <tr style=\"text-align: right;\">\n",
       "      <th></th>\n",
       "      <th>id</th>\n",
       "      <th>date</th>\n",
       "      <th>store_nbr</th>\n",
       "      <th>family</th>\n",
       "      <th>onpromotion</th>\n",
       "    </tr>\n",
       "  </thead>\n",
       "  <tbody>\n",
       "    <tr>\n",
       "      <th>28509</th>\n",
       "      <td>3029397</td>\n",
       "      <td>2017-08-31</td>\n",
       "      <td>9</td>\n",
       "      <td>PRODUCE</td>\n",
       "      <td>1</td>\n",
       "    </tr>\n",
       "    <tr>\n",
       "      <th>28510</th>\n",
       "      <td>3029398</td>\n",
       "      <td>2017-08-31</td>\n",
       "      <td>9</td>\n",
       "      <td>SCHOOL AND OFFICE SUPPLIES</td>\n",
       "      <td>9</td>\n",
       "    </tr>\n",
       "    <tr>\n",
       "      <th>28511</th>\n",
       "      <td>3029399</td>\n",
       "      <td>2017-08-31</td>\n",
       "      <td>9</td>\n",
       "      <td>SEAFOOD</td>\n",
       "      <td>0</td>\n",
       "    </tr>\n",
       "  </tbody>\n",
       "</table>\n",
       "</div>"
      ],
      "text/plain": [
       "            id        date  store_nbr                      family  onpromotion\n",
       "28509  3029397  2017-08-31          9                     PRODUCE            1\n",
       "28510  3029398  2017-08-31          9  SCHOOL AND OFFICE SUPPLIES            9\n",
       "28511  3029399  2017-08-31          9                     SEAFOOD            0"
      ]
     },
     "execution_count": 6,
     "metadata": {},
     "output_type": "execute_result"
    }
   ],
   "source": [
    "RAW_TEST.tail(3)"
   ]
  },
  {
   "cell_type": "markdown",
   "id": "f9f44d0e",
   "metadata": {},
   "source": [
    "**Temporarily merge the test and training frames to apply various transformations**"
   ]
  },
  {
   "cell_type": "code",
   "execution_count": 7,
   "id": "52bf12be",
   "metadata": {},
   "outputs": [],
   "source": [
    "TEST_TRAIN_MERGED = pd.concat([RAW_TRAIN,RAW_TEST])"
   ]
  },
  {
   "cell_type": "code",
   "execution_count": 8,
   "id": "68012dff",
   "metadata": {},
   "outputs": [
    {
     "data": {
      "text/plain": [
       "3000887"
      ]
     },
     "execution_count": 8,
     "metadata": {},
     "output_type": "execute_result"
    }
   ],
   "source": [
    "RAW_TRAIN[\"id\"].max()"
   ]
  },
  {
   "cell_type": "code",
   "execution_count": 9,
   "id": "b195dc43",
   "metadata": {},
   "outputs": [
    {
     "data": {
      "text/plain": [
       "3000888"
      ]
     },
     "execution_count": 9,
     "metadata": {},
     "output_type": "execute_result"
    }
   ],
   "source": [
    "RAW_TEST[\"id\"].min()"
   ]
  },
  {
   "cell_type": "markdown",
   "id": "2a57a90b",
   "metadata": {},
   "source": [
    "**Add a pipeline to process the data**"
   ]
  },
  {
   "cell_type": "code",
   "execution_count": 10,
   "id": "1e4deaa3",
   "metadata": {},
   "outputs": [],
   "source": [
    "_uniqueFams = RAW_TRAIN[\"family\"].unique()\n",
    "_lagPromPipe = preProcPipeHelp.AddLagFeats(ON_PROM_LAGS, targCol=\"onpromotion\")\n",
    "_maPromPipe = preProcPipeHelp.AddLeftMovingAverage(ON_PROM_WINDOW_VALS, [0], targCol=\"onpromotion\")\n",
    "_maSalePipe = preProcPipeHelp.AddLeftMovingAverage(SALE_WINDOW_VALS, [16], targCol=\"sales\")"
   ]
  },
  {
   "cell_type": "code",
   "execution_count": 11,
   "id": "a28ca3b3",
   "metadata": {},
   "outputs": [],
   "source": [
    "_removeNDaysBehindPipe = preProcPipeHelp.RemoveDatesNDaysBehindMax(N_DAYS_USE)\n",
    "\n",
    "_pipeComps = [ (\"Add lag features\", preProcPipeHelp.AddLagFeats(LAG_VALS)),\n",
    "               (\"Add lag onpromotion feature\", _lagPromPipe ),\n",
    "               (\"Add store wide sums\", preProcPipeHelp.AddStoreWideSums() ),\n",
    "               (\"Add moving average sale values\", _maSalePipe ),\n",
    "               (\"Add moving average promotion values\", _maPromPipe),\n",
    "               (\"Remove earlier data\", _removeNDaysBehindPipe ),\n",
    "               (\"Add a log1p target column\", preProcPipeHelp.AddLog1pSales() ),\n",
    "               (\"Add fractional number of promotions\", preProcPipeHelp.AddFractProm() ),\n",
    "               (\"Add oil prices\", preProcPipeHelp.AddOilPriceData() ),\n",
    "               (\"Add basic store info\", preProcPipeHelp.AddStoreInfoData()),\n",
    "               (\"Add ordinal encoding for store type\", preProcPipeHelp.OrdEncodeStoreType() ),\n",
    "               (\"Add ordinal encoding for store state\", preProcPipeHelp.StoreStateOrdEncode() ),\n",
    "               (\"Add ordinal encoding for store city\", preProcPipeHelp.StoreCityOrdEncode() ),\n",
    "               (\"Encode family ordinally\", preProcPipeHelp.EncodeFamilyArbitrary(_uniqueFams)  ),\n",
    "               (\"Add day of week\", preProcPipeHelp.AddDayOfWeekFeat() ),\n",
    "               (\"Add day of month\", preProcPipeHelp.AddDayOfMonth() ),\n",
    "               (\"Add day of year sin/cos\", preProcPipeHelp.AddDayOfYearSinCos() )\n",
    "             ]\n",
    "\n",
    "preProcPipe = sk.pipeline.Pipeline(_pipeComps)"
   ]
  },
  {
   "cell_type": "markdown",
   "id": "42127636",
   "metadata": {},
   "source": [
    "**Apply the pipeline preprocessing**"
   ]
  },
  {
   "cell_type": "code",
   "execution_count": 12,
   "id": "0d9063ee",
   "metadata": {},
   "outputs": [
    {
     "name": "stderr",
     "output_type": "stream",
     "text": [
      "/home/richard/Work/random/learning_ml/kaggle_comps/store_sales_github/shared_code/preproc_pipes.py:134: FutureWarning: The default value of numeric_only in DataFrameGroupBy.sum is deprecated. In a future version, numeric_only will default to False. Either specify numeric_only or select only columns which should be valid for the function.\n",
      "  summedFrame = useX.groupby([\"date\",\"store_nbr\"]).sum().reset_index()\n"
     ]
    },
    {
     "name": "stdout",
     "output_type": "stream",
     "text": [
      " "
     ]
    }
   ],
   "source": [
    "%%prun\n",
    "#          190067252 function calls (189465357 primitive calls) in 97.353 seconds\n",
    "\n",
    "PROC_MERGED = preProcPipe.fit_transform(TEST_TRAIN_MERGED)"
   ]
  },
  {
   "cell_type": "markdown",
   "id": "647bfd1d",
   "metadata": {},
   "source": [
    "**Split the training and test frames up again**"
   ]
  },
  {
   "cell_type": "code",
   "execution_count": 13,
   "id": "c53e2166",
   "metadata": {},
   "outputs": [],
   "source": [
    "TRAIN_FRAME = PROC_MERGED.loc[ PROC_MERGED[\"id\"]<=RAW_TRAIN[\"id\"].max() ]\n",
    "TEST_FRAME = PROC_MERGED.loc[ PROC_MERGED[\"id\"]>= RAW_TEST[\"id\"].min() ]"
   ]
  },
  {
   "cell_type": "markdown",
   "id": "a0db9886",
   "metadata": {},
   "source": [
    "**Apply the target encoding**"
   ]
  },
  {
   "cell_type": "code",
   "execution_count": 14,
   "id": "b9630ef6",
   "metadata": {},
   "outputs": [
    {
     "name": "stderr",
     "output_type": "stream",
     "text": [
      "/home/richard/Work/random/learning_ml/kaggle_comps/store_sales_github/shared_code/preproc_pipes.py:325: FutureWarning: The default value of numeric_only in DataFrameGroupBy.mean is deprecated. In a future version, numeric_only will default to False. Either specify numeric_only or select only columns which should be valid for the function.\n",
      "  self.meanFamDict = useX.groupby(\"family_enc\").mean()[\"sales\"].to_dict()\n"
     ]
    }
   ],
   "source": [
    "targEncoder =  preProcPipeHelp.TargEncodeFamilyStore()\n",
    "targEncoder.fit(TRAIN_FRAME)\n",
    "\n",
    "TRAIN_FRAME = targEncoder.transform(TRAIN_FRAME)\n",
    "TEST_FRAME = targEncoder.transform(TEST_FRAME)"
   ]
  },
  {
   "cell_type": "markdown",
   "id": "6db46244",
   "metadata": {},
   "source": [
    "**Create a simple wrapper function for sklearn random forest; I want to use it directly with the dataframes**"
   ]
  },
  {
   "cell_type": "code",
   "execution_count": 15,
   "id": "8c88c323",
   "metadata": {},
   "outputs": [],
   "source": [
    "class RandomForestWrapper():\n",
    "    \n",
    "    def __init__(self, useFeats, targFeat=\"sales\", rfKwargs=None):\n",
    "        self.useFeats = useFeats\n",
    "        self.targFeat = targFeat\n",
    "        rfKwargs = dict() if rfKwargs is None else rfKwargs\n",
    "        self.regressor = sk.ensemble.RandomForestRegressor(**rfKwargs)\n",
    "    \n",
    "    def fit(self, inpX, inpY=None):\n",
    "        _trainX = inpX[_useFeats]\n",
    "        _trainY = inpX[self.targFeat]\n",
    "        self.regressor.fit(_trainX, _trainY)\n",
    "        return self\n",
    "    \n",
    "    def predict(self, inpX):\n",
    "        _useX = inpX[self.useFeats]\n",
    "        return self.regressor.predict(_useX)\n"
   ]
  },
  {
   "cell_type": "markdown",
   "id": "bf82e0cb",
   "metadata": {},
   "source": [
    "**Create a function to get square log error; used in the evaluation metric**"
   ]
  },
  {
   "cell_type": "code",
   "execution_count": 16,
   "id": "86bfeaaf",
   "metadata": {},
   "outputs": [],
   "source": [
    "def addSqrLogErrorToFrame(inpFrame, predCol=\"pred_A\", actCol=\"sales\", outCol=\"sqr_log_error\"):\n",
    "    inpFrame[outCol] = inpFrame.apply( lambda x: (math.log(x[predCol]+1) - math.log(x[actCol]+1))**2 ,axis=1)\n"
   ]
  },
  {
   "cell_type": "markdown",
   "id": "2012cd1c",
   "metadata": {},
   "source": [
    "**Create and fit a random forest**"
   ]
  },
  {
   "cell_type": "code",
   "execution_count": 17,
   "id": "3763b508",
   "metadata": {},
   "outputs": [],
   "source": [
    "_currLags = [\"sales_l{}\".format(int(x)) for x in range(16,16+7)]\n",
    "_useFeats = [\"family_enc\", \"store_nbr\", \"store_cluster\", \"fam_store_mean_enc\", \"store_type_ordE\",\n",
    "             \"store_state_ordE\", \"day_of_week\", \"onpromotion\",\n",
    "             \"sin_day_of_year\", \"cos_day_of_year\",  \"store_promotions\", \"fract_promotions\",\n",
    "            \"oil_price_w10\", \"sales_l16_ma7\", \"sales_l16_ma14\", \"sales_l16_ma21\",\n",
    "             \"onpromotion_l0_ma21\", \"onpromotion_l0_ma14\", \"onpromotion_l0_ma7\"]\n",
    "_useFeats += _currLags\n",
    "targCol = \"sales_log1p\"\n",
    "_rfKwargs = {\"max_depth\":12, \"max_samples\":0.1} #Unlikely to be optimal but....\n",
    "\n",
    "\n",
    "MODEL = RandomForestWrapper(_useFeats, targCol, rfKwargs=_rfKwargs)\n"
   ]
  },
  {
   "cell_type": "code",
   "execution_count": 18,
   "id": "59f68709",
   "metadata": {},
   "outputs": [
    {
     "name": "stdout",
     "output_type": "stream",
     "text": [
      " "
     ]
    }
   ],
   "source": [
    "%%prun\n",
    "#170726 function calls (169562 primitive calls) in 251.898 seconds\n",
    "\n",
    "MODEL.fit(TRAIN_FRAME)"
   ]
  },
  {
   "cell_type": "markdown",
   "id": "9ec9ce36",
   "metadata": {},
   "source": [
    "**Look at the error on the training data**"
   ]
  },
  {
   "cell_type": "code",
   "execution_count": 19,
   "id": "53d3af21",
   "metadata": {},
   "outputs": [],
   "source": [
    "TRAIN_FRAME[\"pred_A\"] = np.expm1( MODEL.predict(TRAIN_FRAME) )\n",
    "addSqrLogErrorToFrame(TRAIN_FRAME)"
   ]
  },
  {
   "cell_type": "code",
   "execution_count": 20,
   "id": "4ecdce5f",
   "metadata": {},
   "outputs": [
    {
     "data": {
      "text/plain": [
       "0.4311218346618908"
      ]
     },
     "execution_count": 20,
     "metadata": {},
     "output_type": "execute_result"
    }
   ],
   "source": [
    "math.sqrt( TRAIN_FRAME[\"sqr_log_error\"].mean() )"
   ]
  },
  {
   "cell_type": "markdown",
   "id": "6b18d969",
   "metadata": {},
   "source": [
    "**Apply the model to our test data**"
   ]
  },
  {
   "cell_type": "code",
   "execution_count": 21,
   "id": "c32d6dd3",
   "metadata": {},
   "outputs": [],
   "source": [
    "TEST_FRAME[\"sales\"] = np.expm1( MODEL.predict(TEST_FRAME) )"
   ]
  },
  {
   "cell_type": "markdown",
   "id": "c6c28144",
   "metadata": {},
   "source": [
    "**Prepare our submission file**"
   ]
  },
  {
   "cell_type": "code",
   "execution_count": 22,
   "id": "c512602f",
   "metadata": {},
   "outputs": [],
   "source": [
    "pathlib.Path(SAVE_FOLDER).mkdir(parents=True, exist_ok=True)"
   ]
  },
  {
   "cell_type": "code",
   "execution_count": 23,
   "id": "445fc2b4",
   "metadata": {},
   "outputs": [],
   "source": [
    "output = TEST_FRAME[[\"id\",\"sales\"]].sort_values(by=\"id\")"
   ]
  },
  {
   "cell_type": "code",
   "execution_count": 24,
   "id": "6668e8d7",
   "metadata": {},
   "outputs": [],
   "source": [
    "output.to_csv(SUBMIT_PATH, index=False)"
   ]
  },
  {
   "cell_type": "code",
   "execution_count": 25,
   "id": "5442caad",
   "metadata": {},
   "outputs": [
    {
     "data": {
      "text/html": [
       "<div>\n",
       "<style scoped>\n",
       "    .dataframe tbody tr th:only-of-type {\n",
       "        vertical-align: middle;\n",
       "    }\n",
       "\n",
       "    .dataframe tbody tr th {\n",
       "        vertical-align: top;\n",
       "    }\n",
       "\n",
       "    .dataframe thead th {\n",
       "        text-align: right;\n",
       "    }\n",
       "</style>\n",
       "<table border=\"1\" class=\"dataframe\">\n",
       "  <thead>\n",
       "    <tr style=\"text-align: right;\">\n",
       "      <th></th>\n",
       "      <th>id</th>\n",
       "      <th>sales</th>\n",
       "    </tr>\n",
       "  </thead>\n",
       "  <tbody>\n",
       "    <tr>\n",
       "      <th>384</th>\n",
       "      <td>3000888</td>\n",
       "      <td>3.206558</td>\n",
       "    </tr>\n",
       "    <tr>\n",
       "      <th>784</th>\n",
       "      <td>3000889</td>\n",
       "      <td>0.000738</td>\n",
       "    </tr>\n",
       "    <tr>\n",
       "      <th>1184</th>\n",
       "      <td>3000890</td>\n",
       "      <td>4.256623</td>\n",
       "    </tr>\n",
       "    <tr>\n",
       "      <th>1584</th>\n",
       "      <td>3000891</td>\n",
       "      <td>2111.372449</td>\n",
       "    </tr>\n",
       "    <tr>\n",
       "      <th>1984</th>\n",
       "      <td>3000892</td>\n",
       "      <td>0.207503</td>\n",
       "    </tr>\n",
       "    <tr>\n",
       "      <th>...</th>\n",
       "      <td>...</td>\n",
       "      <td>...</td>\n",
       "    </tr>\n",
       "    <tr>\n",
       "      <th>117199</th>\n",
       "      <td>3029395</td>\n",
       "      <td>342.175531</td>\n",
       "    </tr>\n",
       "    <tr>\n",
       "      <th>117599</th>\n",
       "      <td>3029396</td>\n",
       "      <td>102.261545</td>\n",
       "    </tr>\n",
       "    <tr>\n",
       "      <th>117999</th>\n",
       "      <td>3029397</td>\n",
       "      <td>1212.678790</td>\n",
       "    </tr>\n",
       "    <tr>\n",
       "      <th>118399</th>\n",
       "      <td>3029398</td>\n",
       "      <td>36.941392</td>\n",
       "    </tr>\n",
       "    <tr>\n",
       "      <th>118799</th>\n",
       "      <td>3029399</td>\n",
       "      <td>13.532191</td>\n",
       "    </tr>\n",
       "  </tbody>\n",
       "</table>\n",
       "<p>28512 rows × 2 columns</p>\n",
       "</div>"
      ],
      "text/plain": [
       "             id        sales\n",
       "384     3000888     3.206558\n",
       "784     3000889     0.000738\n",
       "1184    3000890     4.256623\n",
       "1584    3000891  2111.372449\n",
       "1984    3000892     0.207503\n",
       "...         ...          ...\n",
       "117199  3029395   342.175531\n",
       "117599  3029396   102.261545\n",
       "117999  3029397  1212.678790\n",
       "118399  3029398    36.941392\n",
       "118799  3029399    13.532191\n",
       "\n",
       "[28512 rows x 2 columns]"
      ]
     },
     "execution_count": 25,
     "metadata": {},
     "output_type": "execute_result"
    }
   ],
   "source": [
    "output"
   ]
  },
  {
   "cell_type": "markdown",
   "id": "7c7a160e",
   "metadata": {},
   "source": [
    "**Kaggle score = 0.44733**"
   ]
  },
  {
   "cell_type": "code",
   "execution_count": null,
   "id": "7b887955",
   "metadata": {},
   "outputs": [],
   "source": []
  }
 ],
 "metadata": {
  "kernelspec": {
   "display_name": "Python 3 (ipykernel)",
   "language": "python",
   "name": "python3"
  },
  "language_info": {
   "codemirror_mode": {
    "name": "ipython",
    "version": 3
   },
   "file_extension": ".py",
   "mimetype": "text/x-python",
   "name": "python",
   "nbconvert_exporter": "python",
   "pygments_lexer": "ipython3",
   "version": "3.10.6"
  }
 },
 "nbformat": 4,
 "nbformat_minor": 5
}
